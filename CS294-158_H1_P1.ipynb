{
  "nbformat": 4,
  "nbformat_minor": 0,
  "metadata": {
    "colab": {
      "name": "Cs294_H1_P1",
      "provenance": [],
      "collapsed_sections": []
    },
    "kernelspec": {
      "name": "python3",
      "display_name": "Python 3"
    }
  },
  "cells": [
    {
      "cell_type": "code",
      "metadata": {
        "id": "MRYM0xnZN7oJ",
        "colab": {
          "base_uri": "https://localhost:8080/",
          "height": 1000
        },
        "outputId": "5365e392-40ea-42c0-c669-4767e5a64d3c"
      },
      "source": [
        "!pip uninstall tensorflow\n",
        "!pip install tensorflow-gpu==2.0"
      ],
      "execution_count": null,
      "outputs": [
        {
          "output_type": "stream",
          "text": [
            "\u001b[33mWARNING: Skipping tensorflow as it is not installed.\u001b[0m\n",
            "Collecting tensorflow-gpu==2.0\n",
            "\u001b[?25l  Downloading https://files.pythonhosted.org/packages/25/44/47f0722aea081697143fbcf5d2aa60d1aee4aaacb5869aee2b568974777b/tensorflow_gpu-2.0.0-cp36-cp36m-manylinux2010_x86_64.whl (380.8MB)\n",
            "\u001b[K     |████████████████████████████████| 380.8MB 39kB/s \n",
            "\u001b[?25hRequirement already satisfied: gast==0.2.2 in /usr/local/lib/python3.6/dist-packages (from tensorflow-gpu==2.0) (0.2.2)\n",
            "Requirement already satisfied: six>=1.10.0 in /usr/local/lib/python3.6/dist-packages (from tensorflow-gpu==2.0) (1.12.0)\n",
            "Collecting tensorflow-estimator<2.1.0,>=2.0.0\n",
            "\u001b[?25l  Downloading https://files.pythonhosted.org/packages/fc/08/8b927337b7019c374719145d1dceba21a8bb909b93b1ad6f8fb7d22c1ca1/tensorflow_estimator-2.0.1-py2.py3-none-any.whl (449kB)\n",
            "\u001b[K     |████████████████████████████████| 450kB 49.8MB/s \n",
            "\u001b[?25hRequirement already satisfied: protobuf>=3.6.1 in /usr/local/lib/python3.6/dist-packages (from tensorflow-gpu==2.0) (3.10.0)\n",
            "Collecting tensorboard<2.1.0,>=2.0.0\n",
            "\u001b[?25l  Downloading https://files.pythonhosted.org/packages/76/54/99b9d5d52d5cb732f099baaaf7740403e83fe6b0cedde940fabd2b13d75a/tensorboard-2.0.2-py3-none-any.whl (3.8MB)\n",
            "\u001b[K     |████████████████████████████████| 3.8MB 15.6MB/s \n",
            "\u001b[?25hRequirement already satisfied: grpcio>=1.8.6 in /usr/local/lib/python3.6/dist-packages (from tensorflow-gpu==2.0) (1.15.0)\n",
            "Requirement already satisfied: keras-applications>=1.0.8 in /usr/local/lib/python3.6/dist-packages (from tensorflow-gpu==2.0) (1.0.8)\n",
            "Requirement already satisfied: termcolor>=1.1.0 in /usr/local/lib/python3.6/dist-packages (from tensorflow-gpu==2.0) (1.1.0)\n",
            "Requirement already satisfied: google-pasta>=0.1.6 in /usr/local/lib/python3.6/dist-packages (from tensorflow-gpu==2.0) (0.1.8)\n",
            "Requirement already satisfied: wrapt>=1.11.1 in /usr/local/lib/python3.6/dist-packages (from tensorflow-gpu==2.0) (1.11.2)\n",
            "Requirement already satisfied: absl-py>=0.7.0 in /usr/local/lib/python3.6/dist-packages (from tensorflow-gpu==2.0) (0.8.1)\n",
            "Requirement already satisfied: keras-preprocessing>=1.0.5 in /usr/local/lib/python3.6/dist-packages (from tensorflow-gpu==2.0) (1.1.0)\n",
            "Requirement already satisfied: astor>=0.6.0 in /usr/local/lib/python3.6/dist-packages (from tensorflow-gpu==2.0) (0.8.0)\n",
            "Requirement already satisfied: numpy<2.0,>=1.16.0 in /usr/local/lib/python3.6/dist-packages (from tensorflow-gpu==2.0) (1.17.4)\n",
            "Requirement already satisfied: wheel>=0.26 in /usr/local/lib/python3.6/dist-packages (from tensorflow-gpu==2.0) (0.33.6)\n",
            "Requirement already satisfied: opt-einsum>=2.3.2 in /usr/local/lib/python3.6/dist-packages (from tensorflow-gpu==2.0) (3.1.0)\n",
            "Requirement already satisfied: setuptools in /usr/local/lib/python3.6/dist-packages (from protobuf>=3.6.1->tensorflow-gpu==2.0) (42.0.1)\n",
            "Requirement already satisfied: google-auth-oauthlib<0.5,>=0.4.1 in /usr/local/lib/python3.6/dist-packages (from tensorboard<2.1.0,>=2.0.0->tensorflow-gpu==2.0) (0.4.1)\n",
            "Collecting google-auth<2,>=1.6.3\n",
            "\u001b[?25l  Downloading https://files.pythonhosted.org/packages/ec/11/1d90cbfa72a084b08498e8cea1fee199bc965cdac391d241f5ae6257073e/google_auth-1.7.2-py2.py3-none-any.whl (74kB)\n",
            "\u001b[K     |████████████████████████████████| 81kB 11.1MB/s \n",
            "\u001b[?25hRequirement already satisfied: werkzeug>=0.11.15 in /usr/local/lib/python3.6/dist-packages (from tensorboard<2.1.0,>=2.0.0->tensorflow-gpu==2.0) (0.16.0)\n",
            "Requirement already satisfied: requests<3,>=2.21.0 in /usr/local/lib/python3.6/dist-packages (from tensorboard<2.1.0,>=2.0.0->tensorflow-gpu==2.0) (2.21.0)\n",
            "Requirement already satisfied: markdown>=2.6.8 in /usr/local/lib/python3.6/dist-packages (from tensorboard<2.1.0,>=2.0.0->tensorflow-gpu==2.0) (3.1.1)\n",
            "Requirement already satisfied: h5py in /usr/local/lib/python3.6/dist-packages (from keras-applications>=1.0.8->tensorflow-gpu==2.0) (2.8.0)\n",
            "Requirement already satisfied: requests-oauthlib>=0.7.0 in /usr/local/lib/python3.6/dist-packages (from google-auth-oauthlib<0.5,>=0.4.1->tensorboard<2.1.0,>=2.0.0->tensorflow-gpu==2.0) (1.3.0)\n",
            "Requirement already satisfied: rsa<4.1,>=3.1.4 in /usr/local/lib/python3.6/dist-packages (from google-auth<2,>=1.6.3->tensorboard<2.1.0,>=2.0.0->tensorflow-gpu==2.0) (4.0)\n",
            "Requirement already satisfied: pyasn1-modules>=0.2.1 in /usr/local/lib/python3.6/dist-packages (from google-auth<2,>=1.6.3->tensorboard<2.1.0,>=2.0.0->tensorflow-gpu==2.0) (0.2.7)\n",
            "Requirement already satisfied: cachetools<3.2,>=2.0.0 in /usr/local/lib/python3.6/dist-packages (from google-auth<2,>=1.6.3->tensorboard<2.1.0,>=2.0.0->tensorflow-gpu==2.0) (3.1.1)\n",
            "Requirement already satisfied: urllib3<1.25,>=1.21.1 in /usr/local/lib/python3.6/dist-packages (from requests<3,>=2.21.0->tensorboard<2.1.0,>=2.0.0->tensorflow-gpu==2.0) (1.24.3)\n",
            "Requirement already satisfied: idna<2.9,>=2.5 in /usr/local/lib/python3.6/dist-packages (from requests<3,>=2.21.0->tensorboard<2.1.0,>=2.0.0->tensorflow-gpu==2.0) (2.8)\n",
            "Requirement already satisfied: chardet<3.1.0,>=3.0.2 in /usr/local/lib/python3.6/dist-packages (from requests<3,>=2.21.0->tensorboard<2.1.0,>=2.0.0->tensorflow-gpu==2.0) (3.0.4)\n",
            "Requirement already satisfied: certifi>=2017.4.17 in /usr/local/lib/python3.6/dist-packages (from requests<3,>=2.21.0->tensorboard<2.1.0,>=2.0.0->tensorflow-gpu==2.0) (2019.11.28)\n",
            "Requirement already satisfied: oauthlib>=3.0.0 in /usr/local/lib/python3.6/dist-packages (from requests-oauthlib>=0.7.0->google-auth-oauthlib<0.5,>=0.4.1->tensorboard<2.1.0,>=2.0.0->tensorflow-gpu==2.0) (3.1.0)\n",
            "Requirement already satisfied: pyasn1>=0.1.3 in /usr/local/lib/python3.6/dist-packages (from rsa<4.1,>=3.1.4->google-auth<2,>=1.6.3->tensorboard<2.1.0,>=2.0.0->tensorflow-gpu==2.0) (0.4.8)\n",
            "\u001b[31mERROR: tensorboard 2.0.2 has requirement grpcio>=1.24.3, but you'll have grpcio 1.15.0 which is incompatible.\u001b[0m\n",
            "\u001b[31mERROR: google-colab 1.0.0 has requirement google-auth~=1.4.0, but you'll have google-auth 1.7.2 which is incompatible.\u001b[0m\n",
            "Installing collected packages: tensorflow-estimator, google-auth, tensorboard, tensorflow-gpu\n",
            "  Found existing installation: tensorflow-estimator 1.15.1\n",
            "    Uninstalling tensorflow-estimator-1.15.1:\n",
            "      Successfully uninstalled tensorflow-estimator-1.15.1\n",
            "  Found existing installation: google-auth 1.4.2\n",
            "    Uninstalling google-auth-1.4.2:\n",
            "      Successfully uninstalled google-auth-1.4.2\n",
            "  Found existing installation: tensorboard 1.15.0\n",
            "    Uninstalling tensorboard-1.15.0:\n",
            "      Successfully uninstalled tensorboard-1.15.0\n",
            "Successfully installed google-auth-1.7.2 tensorboard-2.0.2 tensorflow-estimator-2.0.1 tensorflow-gpu-2.0.0\n"
          ],
          "name": "stdout"
        },
        {
          "output_type": "display_data",
          "data": {
            "application/vnd.colab-display-data+json": {
              "pip_warning": {
                "packages": [
                  "google"
                ]
              }
            }
          },
          "metadata": {
            "tags": []
          }
        }
      ]
    },
    {
      "cell_type": "code",
      "metadata": {
        "id": "eSDjTh3-6qPD"
      },
      "source": [
        "import numpy as np\n",
        "import matplotlib.pyplot as plt\n",
        "import tensorflow as tf\n",
        "from sklearn.model_selection import train_test_split\n",
        "\n",
        "def sample_data():\n",
        "  count = 10000\n",
        "  rand = np.random.RandomState(0)\n",
        "  a = 0.3 + 0.1 * rand.randn(count)\n",
        "  b = 0.8 + 0.05 * rand.randn(count)\n",
        "  mask = rand.rand(count) < 0.5\n",
        "  samples = np.clip(a * mask + b * (1 - mask), 0.0, 1.0)\n",
        "  return np.digitize(samples, np.linspace(0.0, 1.0, 100))"
      ],
      "execution_count": null,
      "outputs": []
    },
    {
      "cell_type": "code",
      "metadata": {
        "id": "F_nWtqiy7qfk",
        "colab": {
          "base_uri": "https://localhost:8080/",
          "height": 34
        },
        "outputId": "865c6e8f-4dd0-4f50-c09b-59b692b96513"
      },
      "source": [
        "data1 = sample_data()\n",
        "train1, test1 = train_test_split(data1, test_size=0.2)\n",
        "train1, val1 = train_test_split(train1, test_size=0.125)\n",
        "print(train1.shape, val1.shape, test1.shape)"
      ],
      "execution_count": null,
      "outputs": [
        {
          "output_type": "stream",
          "text": [
            "(7000,) (1000,) (2000,)\n"
          ],
          "name": "stdout"
        }
      ]
    },
    {
      "cell_type": "code",
      "metadata": {
        "id": "SQd6OEVEBrTt",
        "colab": {
          "base_uri": "https://localhost:8080/",
          "height": 369
        },
        "outputId": "3bbbc16d-628c-407e-cb29-019e920b163f"
      },
      "source": [
        "plt.hist(train1,20)"
      ],
      "execution_count": null,
      "outputs": [
        {
          "output_type": "execute_result",
          "data": {
            "text/plain": [
              "(array([  23.,   49.,  160.,  350.,  395.,  702.,  719.,  547.,  334.,\n",
              "         130.,   78.,   19.,    6.,   52.,  189.,  896., 1384.,  805.,\n",
              "         146.,   16.]),\n",
              " array([ 1. ,  5.8, 10.6, 15.4, 20.2, 25. , 29.8, 34.6, 39.4, 44.2, 49. ,\n",
              "        53.8, 58.6, 63.4, 68.2, 73. , 77.8, 82.6, 87.4, 92.2, 97. ]),\n",
              " <a list of 20 Patch objects>)"
            ]
          },
          "metadata": {
            "tags": []
          },
          "execution_count": 7
        },
        {
          "output_type": "display_data",
          "data": {
            "image/png": "[encoded data removed]",
            "text/plain": [
              "<Figure size 432x288 with 1 Axes>"
            ]
          },
          "metadata": {
            "tags": []
          }
        }
      ]
    },
    {
      "cell_type": "code",
      "metadata": {
        "id": "v1WoX_nYGhhj"
      },
      "source": [
        "class Solver1(object):\n",
        "  def __init__(self, input_range=100, batch_size=500, lr=5e-4, epochs=10000, log_every_epoch=30):\n",
        "    self.input_range = input_range\n",
        "    self.size = batch_size\n",
        "    self.lr = lr\n",
        "    self.epochs = epochs\n",
        "    self.log = log_every_epoch\n",
        "    self.theta = np.zeros(input_range)\n",
        "    self.batch_size = batch_size\n",
        "\n",
        "  def log2(self, x):\n",
        "    return np.log(x)/np.log(2)\n",
        "  \n",
        "  def loss(self, x):\n",
        "    th = self.theta[x]\n",
        "    st = np.max(th)\n",
        "    p = np.exp(th-st)/np.sum(np.exp(self.theta-st))\n",
        "    loss = np.mean(-self.log2(p))\n",
        "    return loss\n",
        "\n",
        "  def update_theta(self, x):\n",
        "    n = x.shape[0]\n",
        "    gradient = np.ones(self.input_range)*1/n\n",
        "    nos, counts = np.unique(x, return_counts=True)\n",
        "    for no, count in zip(nos, counts):\n",
        "      gradient[no] -= count/n\n",
        "    self.theta -= self.lr*gradient  \n",
        "\n",
        "  def train(self, x_trn, x_val):\n",
        "    N = x_trn.shape[0]\n",
        "    trn_loss =[]\n",
        "    val_loss = []\n",
        "    for epoch in range(self.epochs):\n",
        "      np.random.shuffle(x_trn)\n",
        "      trn_batch_loss =[]\n",
        "      arr = np.array_split(x_trn , np.ceil(N/self.batch_size))\n",
        "      for batch in arr:\n",
        "        batch_loss = self.loss(batch)\n",
        "        self.update_theta(batch)\n",
        "        trn_batch_loss.append(batch_loss)\n",
        "      if epoch % self.log == 0:\n",
        "        trn_loss.append(np.mean(batch_loss))\n",
        "        val_loss.append(self.loss(x_val))\n",
        "        print('epoch: {} train_loss: {}  Validation_loss: {}'.format(epoch, trn_loss[-1], val_loss[-1]))\n",
        "    return trn_loss, val_loss\n",
        "\n",
        "best_lr=0\n",
        "pr=0\n",
        "for lr in np.linspace(1e-3,1e-7,20):\n",
        "  if best_lr == 0:\n",
        "    best_lr = lr\n",
        "  solver = Solver1(lr=lr, epochs=5000, log_every_epoch=4999)\n",
        "  print('lr: ',lr)\n",
        "  loss_trn1, loss_val1 = solver.train(train1[:1000],val1)\n",
        "  if loss_val1[-1]< pr:\n",
        "      best_lr = lr\n",
        "  pr = loss_val1[-1]\n",
        "print(best_lr)"
      ],
      "execution_count": null,
      "outputs": []
    },
    {
      "cell_type": "code",
      "metadata": {
        "id": "BxuAdl10tfnY",
        "colab": {
          "base_uri": "https://localhost:8080/",
          "height": 1000
        },
        "outputId": "9eede160-bc1b-44d1-9989-58fda48d32e4"
      },
      "source": [
        "solver = Solver1(lr=1e-3, epochs=4000)\n",
        "loss_trn1, loss_val1 = solver.train(train1,val1)"
      ],
      "execution_count": null,
      "outputs": [
        {
          "output_type": "stream",
          "text": [
            "epoch: 0 train_loss: 6.643632050273025  Validation_loss: 6.643633821350144\n",
            "epoch: 30 train_loss: 6.636070131083828  Validation_loss: 6.636978838994134\n",
            "epoch: 60 train_loss: 6.628559498256163  Validation_loss: 6.630355084011904\n",
            "epoch: 90 train_loss: 6.620306947708925  Validation_loss: 6.623762738914353\n",
            "epoch: 120 train_loss: 6.615699677486042  Validation_loss: 6.617201986771622\n",
            "epoch: 150 train_loss: 6.606633512798064  Validation_loss: 6.610673011201877\n",
            "epoch: 180 train_loss: 6.600713236289318  Validation_loss: 6.604175996359798\n",
            "epoch: 210 train_loss: 6.596558780337324  Validation_loss: 6.597711126924796\n",
            "epoch: 240 train_loss: 6.5842512951459025  Validation_loss: 6.591278588088931\n",
            "epoch: 270 train_loss: 6.578581611338754  Validation_loss: 6.5848785655445585\n",
            "epoch: 300 train_loss: 6.5693925511446505  Validation_loss: 6.578511245471667\n",
            "epoch: 330 train_loss: 6.558943145340782  Validation_loss: 6.572176814524939\n",
            "epoch: 360 train_loss: 6.551344429116021  Validation_loss: 6.5658754598205125\n",
            "epoch: 390 train_loss: 6.555974586015219  Validation_loss: 6.559607368922452\n",
            "epoch: 420 train_loss: 6.545989428407738  Validation_loss: 6.553372729828917\n",
            "epoch: 450 train_loss: 6.528708122684378  Validation_loss: 6.547171730958034\n",
            "epoch: 480 train_loss: 6.525691342294294  Validation_loss: 6.54100456113348\n",
            "epoch: 510 train_loss: 6.53085241971126  Validation_loss: 6.534871409569751\n",
            "epoch: 540 train_loss: 6.519603351675607  Validation_loss: 6.528772465857138\n",
            "epoch: 570 train_loss: 6.515470254918375  Validation_loss: 6.522707919946402\n",
            "epoch: 600 train_loss: 6.49646248443908  Validation_loss: 6.516677962133138\n",
            "epoch: 630 train_loss: 6.48540504200465  Validation_loss: 6.510682783041846\n",
            "epoch: 660 train_loss: 6.485236703399425  Validation_loss: 6.504722573609691\n",
            "epoch: 690 train_loss: 6.482424029313886  Validation_loss: 6.498797525069954\n",
            "epoch: 720 train_loss: 6.474302178519692  Validation_loss: 6.49290782893519\n",
            "epoch: 750 train_loss: 6.464504545310718  Validation_loss: 6.48705367698006\n",
            "epoch: 780 train_loss: 6.462341401770006  Validation_loss: 6.4812352612238895\n",
            "epoch: 810 train_loss: 6.442372681641748  Validation_loss: 6.475452773912884\n",
            "epoch: 840 train_loss: 6.442554120294352  Validation_loss: 6.469706407502059\n",
            "epoch: 870 train_loss: 6.455741580386902  Validation_loss: 6.463996354636868\n",
            "epoch: 900 train_loss: 6.431889472985558  Validation_loss: 6.458322808134512\n",
            "epoch: 930 train_loss: 6.409599366145503  Validation_loss: 6.452685960964949\n",
            "epoch: 960 train_loss: 6.454079345210168  Validation_loss: 6.4470860062316016\n",
            "epoch: 990 train_loss: 6.420858199813546  Validation_loss: 6.441523137151763\n",
            "epoch: 1020 train_loss: 6.409138405936335  Validation_loss: 6.43599754703669\n",
            "epoch: 1050 train_loss: 6.412327193535089  Validation_loss: 6.430509429271406\n",
            "epoch: 1080 train_loss: 6.4060761626776435  Validation_loss: 6.425058977294194\n",
            "epoch: 1110 train_loss: 6.375905436005411  Validation_loss: 6.419646384575797\n",
            "epoch: 1140 train_loss: 6.3953278020587305  Validation_loss: 6.4142718445983204\n",
            "epoch: 1170 train_loss: 6.392453836174631  Validation_loss: 6.408935550833831\n",
            "epoch: 1200 train_loss: 6.3520540632869  Validation_loss: 6.403637696722673\n",
            "epoch: 1230 train_loss: 6.35040706374126  Validation_loss: 6.39837847565148\n",
            "epoch: 1260 train_loss: 6.357587453951133  Validation_loss: 6.393158080930911\n",
            "epoch: 1290 train_loss: 6.354725930926443  Validation_loss: 6.387976705773084\n",
            "epoch: 1320 train_loss: 6.346088234738262  Validation_loss: 6.382834543268727\n",
            "epoch: 1350 train_loss: 6.35300540939637  Validation_loss: 6.377731786364064\n",
            "epoch: 1380 train_loss: 6.331431362767844  Validation_loss: 6.372668627837398\n",
            "epoch: 1410 train_loss: 6.354294159299472  Validation_loss: 6.367645260275426\n",
            "epoch: 1440 train_loss: 6.333602128765067  Validation_loss: 6.362661876049282\n",
            "epoch: 1470 train_loss: 6.308632144397688  Validation_loss: 6.357718667290318\n",
            "epoch: 1500 train_loss: 6.324579970582944  Validation_loss: 6.352815825865599\n",
            "epoch: 1530 train_loss: 6.299205371736672  Validation_loss: 6.347953543353145\n",
            "epoch: 1560 train_loss: 6.314252136592702  Validation_loss: 6.343132011016928\n",
            "epoch: 1590 train_loss: 6.273673326411947  Validation_loss: 6.338351419781582\n",
            "epoch: 1620 train_loss: 6.265469233699546  Validation_loss: 6.333611960206898\n",
            "epoch: 1650 train_loss: 6.299855125822766  Validation_loss: 6.328913822462045\n",
            "epoch: 1680 train_loss: 6.300402719177302  Validation_loss: 6.324257196299568\n",
            "epoch: 1710 train_loss: 6.285755166852074  Validation_loss: 6.3196422710291325\n",
            "epoch: 1740 train_loss: 6.259290619509679  Validation_loss: 6.315069235491062\n",
            "epoch: 1770 train_loss: 6.27825198089473  Validation_loss: 6.3105382780296155\n",
            "epoch: 1800 train_loss: 6.298563156938981  Validation_loss: 6.306049586466083\n",
            "epoch: 1830 train_loss: 6.260403235547651  Validation_loss: 6.301603348071623\n",
            "epoch: 1860 train_loss: 6.237305877318822  Validation_loss: 6.297199749539938\n",
            "epoch: 1890 train_loss: 6.210461608407082  Validation_loss: 6.292838976959695\n",
            "epoch: 1920 train_loss: 6.2297551310742785  Validation_loss: 6.288521215786803\n",
            "epoch: 1950 train_loss: 6.243082029726718  Validation_loss: 6.284246650816446\n",
            "epoch: 1980 train_loss: 6.217950068404356  Validation_loss: 6.280015466154973\n",
            "epoch: 2010 train_loss: 6.253111905806663  Validation_loss: 6.275827845191594\n",
            "epoch: 2040 train_loss: 6.1916496568288  Validation_loss: 6.271683970569897\n",
            "epoch: 2070 train_loss: 6.225535487771627  Validation_loss: 6.26758402415922\n",
            "epoch: 2100 train_loss: 6.202029325481073  Validation_loss: 6.263528187025853\n",
            "epoch: 2130 train_loss: 6.237252764250983  Validation_loss: 6.259516639404097\n",
            "epoch: 2160 train_loss: 6.205910997306277  Validation_loss: 6.255549560667179\n",
            "epoch: 2190 train_loss: 6.191943574733967  Validation_loss: 6.251627129298037\n",
            "epoch: 2220 train_loss: 6.1895949588402885  Validation_loss: 6.247749522859979\n",
            "epoch: 2250 train_loss: 6.189821244150833  Validation_loss: 6.243916917967222\n",
            "epoch: 2280 train_loss: 6.212689581083452  Validation_loss: 6.240129490255324\n",
            "epoch: 2310 train_loss: 6.253968565137921  Validation_loss: 6.2363874143515226\n",
            "epoch: 2340 train_loss: 6.138308524367884  Validation_loss: 6.232690863844968\n",
            "epoch: 2370 train_loss: 6.190364921920103  Validation_loss: 6.229040011256891\n",
            "epoch: 2400 train_loss: 6.1626746193532345  Validation_loss: 6.225435028010684\n",
            "epoch: 2430 train_loss: 6.178139819630894  Validation_loss: 6.221876084401922\n",
            "epoch: 2460 train_loss: 6.152855510540798  Validation_loss: 6.2183633495683335\n",
            "epoch: 2490 train_loss: 6.165137030634901  Validation_loss: 6.214896991459722\n",
            "epoch: 2520 train_loss: 6.160215007907982  Validation_loss: 6.2114771768078505\n",
            "epoch: 2550 train_loss: 6.151433164692516  Validation_loss: 6.208104071096303\n",
            "epoch: 2580 train_loss: 6.099437169981942  Validation_loss: 6.204777838530331\n",
            "epoch: 2610 train_loss: 6.114293815960888  Validation_loss: 6.201498642006698\n",
            "epoch: 2640 train_loss: 6.171247853328665  Validation_loss: 6.198266643083512\n",
            "epoch: 2670 train_loss: 6.174400230702286  Validation_loss: 6.1950820019501\n",
            "epoch: 2700 train_loss: 6.092381564527024  Validation_loss: 6.191944877396883\n",
            "epoch: 2730 train_loss: 6.064545938282549  Validation_loss: 6.188855426785299\n",
            "epoch: 2760 train_loss: 6.1637322447229925  Validation_loss: 6.185813806017779\n",
            "epoch: 2790 train_loss: 6.138096160561251  Validation_loss: 6.182820169507767\n",
            "epoch: 2820 train_loss: 6.119904029796632  Validation_loss: 6.179874670149811\n",
            "epoch: 2850 train_loss: 6.132113843236551  Validation_loss: 6.176977459289748\n",
            "epoch: 2880 train_loss: 6.133862913553343  Validation_loss: 6.174128686694961\n",
            "epoch: 2910 train_loss: 6.088899630046955  Validation_loss: 6.171328500524757\n",
            "epoch: 2940 train_loss: 6.099215326843445  Validation_loss: 6.16857704730083\n",
            "epoch: 2970 train_loss: 6.181219116266772  Validation_loss: 6.1658744718778875\n",
            "epoch: 3000 train_loss: 6.081689889037494  Validation_loss: 6.16322091741438\n",
            "epoch: 3030 train_loss: 6.117047161371858  Validation_loss: 6.160616525343392\n",
            "epoch: 3060 train_loss: 6.077601773683481  Validation_loss: 6.158061435343694\n",
            "epoch: 3090 train_loss: 6.057112853928731  Validation_loss: 6.155555785310958\n",
            "epoch: 3120 train_loss: 6.104038979096506  Validation_loss: 6.153099711329164\n",
            "epoch: 3150 train_loss: 6.090706349907313  Validation_loss: 6.150693347642189\n",
            "epoch: 3180 train_loss: 6.082454827762369  Validation_loss: 6.148336826625613\n",
            "epoch: 3210 train_loss: 6.027662055724245  Validation_loss: 6.1460302787587375\n",
            "epoch: 3240 train_loss: 6.0959679297943286  Validation_loss: 6.143773832596831\n",
            "epoch: 3270 train_loss: 6.066346047324954  Validation_loss: 6.141567614743619\n",
            "epoch: 3300 train_loss: 6.057232325595363  Validation_loss: 6.139411749824019\n",
            "epoch: 3330 train_loss: 6.0582442225247615  Validation_loss: 6.137306360457155\n",
            "epoch: 3360 train_loss: 6.091261889553516  Validation_loss: 6.13525156722963\n",
            "epoch: 3390 train_loss: 6.06401232373082  Validation_loss: 6.133247488669094\n",
            "epoch: 3420 train_loss: 6.088098089279731  Validation_loss: 6.131294241218114\n",
            "epoch: 3450 train_loss: 6.039096564927217  Validation_loss: 6.129391939208346\n",
            "epoch: 3480 train_loss: 6.046845888265311  Validation_loss: 6.127540694835036\n",
            "epoch: 3510 train_loss: 6.086938033465192  Validation_loss: 6.125740618131851\n",
            "epoch: 3540 train_loss: 6.098609854057384  Validation_loss: 6.123991816946054\n",
            "epoch: 3570 train_loss: 6.020718270061301  Validation_loss: 6.1222943969140395\n",
            "epoch: 3600 train_loss: 6.091677847229911  Validation_loss: 6.120648461437224\n",
            "epoch: 3630 train_loss: 6.037059687566778  Validation_loss: 6.11905411165833\n",
            "epoch: 3660 train_loss: 6.01191762277104  Validation_loss: 6.117511446438049\n",
            "epoch: 3690 train_loss: 5.992606333531821  Validation_loss: 6.116020562332105\n",
            "epoch: 3720 train_loss: 6.123294971559951  Validation_loss: 6.114581553568735\n",
            "epoch: 3750 train_loss: 6.028099350658487  Validation_loss: 6.113194512026579\n",
            "epoch: 3780 train_loss: 6.062827105241131  Validation_loss: 6.111859527213012\n",
            "epoch: 3810 train_loss: 5.966260143315077  Validation_loss: 6.110576686242909\n",
            "epoch: 3840 train_loss: 6.006715437555509  Validation_loss: 6.109346073817878\n",
            "epoch: 3870 train_loss: 5.997051667639677  Validation_loss: 6.10816777220593\n",
            "epoch: 3900 train_loss: 5.97430841404772  Validation_loss: 6.1070418612216395\n",
            "epoch: 3930 train_loss: 6.039700894921154  Validation_loss: 6.105968418206784\n",
            "epoch: 3960 train_loss: 6.0525515178274  Validation_loss: 6.104947518011466\n",
            "epoch: 3990 train_loss: 5.9774647656380635  Validation_loss: 6.1039792329757425\n"
          ],
          "name": "stdout"
        }
      ]
    },
    {
      "cell_type": "code",
      "metadata": {
        "id": "S0-ldRdfVEOX",
        "colab": {
          "base_uri": "https://localhost:8080/",
          "height": 296
        },
        "outputId": "373e2c7e-b0f8-4a80-a1b2-0a63971b0725"
      },
      "source": [
        "plt.plot(range(0,solver.epochs,solver.log), loss_trn1, label='Train loss')\n",
        "plt.plot(range(0,solver.epochs,solver.log), loss_val1, label='Validation loss')\n",
        "plt.xlabel('Epochs')\n",
        "plt.ylabel('NLL')\n",
        "plt.legend()"
      ],
      "execution_count": null,
      "outputs": [
        {
          "output_type": "execute_result",
          "data": {
            "text/plain": [
              "<matplotlib.legend.Legend at 0x7f576840b470>"
            ]
          },
          "metadata": {
            "tags": []
          },
          "execution_count": 36
        },
        {
          "output_type": "display_data",
          "data": {
            "image/png": "[encoded data removed]",
            "text/plain": [
              "<Figure size 432x288 with 1 Axes>"
            ]
          },
          "metadata": {
            "tags": []
          }
        }
      ]
    },
    {
      "cell_type": "code",
      "metadata": {
        "id": "1Tbtzd-qV7yS",
        "colab": {
          "base_uri": "https://localhost:8080/",
          "height": 34
        },
        "outputId": "48190447-b943-4bd7-8b2a-54c0159c7050"
      },
      "source": [
        "print('Test Loss: ',solver.loss(test1))"
      ],
      "execution_count": null,
      "outputs": [
        {
          "output_type": "stream",
          "text": [
            "Test Loss:  6.009721862960977\n"
          ],
          "name": "stdout"
        }
      ]
    },
    {
      "cell_type": "code",
      "metadata": {
        "id": "iMh-BwgoX__J",
        "colab": {
          "base_uri": "https://localhost:8080/",
          "height": 282
        },
        "outputId": "c50d490e-9ec5-4eda-b32a-840875e076c3"
      },
      "source": [
        "prob = np.exp(solver.theta-np.max(solver.theta))/np.sum(np.exp(solver.theta-np.max(solver.theta)))\n",
        "plt.plot(prob)"
      ],
      "execution_count": null,
      "outputs": [
        {
          "output_type": "execute_result",
          "data": {
            "text/plain": [
              "[<matplotlib.lines.Line2D at 0x7f57683fd710>]"
            ]
          },
          "metadata": {
            "tags": []
          },
          "execution_count": 38
        },
        {
          "output_type": "display_data",
          "data": {
            "image/png": "[encoded data removed]",
            "text/plain": [
              "<Figure size 432x288 with 1 Axes>"
            ]
          },
          "metadata": {
            "tags": []
          }
        }
      ]
    },
    {
      "cell_type": "code",
      "metadata": {
        "id": "3s0hnk-GaAPC",
        "colab": {
          "base_uri": "https://localhost:8080/",
          "height": 404
        },
        "outputId": "3dbf8fac-71fb-49dd-98c1-d4ad53e21ebf"
      },
      "source": [
        "samples = np.random.choice(range(1,101,1),1000,p=prob)\n",
        "plt.hist(samples,25)"
      ],
      "execution_count": null,
      "outputs": [
        {
          "output_type": "execute_result",
          "data": {
            "text/plain": [
              "(array([ 22.,  14.,  26.,  18.,  34.,  43.,  42.,  55.,  49.,  37.,  24.,\n",
              "         28.,  20.,  16.,  17.,  21.,  22.,  14.,  46., 171., 159.,  55.,\n",
              "         25.,  18.,  24.]),\n",
              " array([  1.  ,   4.96,   8.92,  12.88,  16.84,  20.8 ,  24.76,  28.72,\n",
              "         32.68,  36.64,  40.6 ,  44.56,  48.52,  52.48,  56.44,  60.4 ,\n",
              "         64.36,  68.32,  72.28,  76.24,  80.2 ,  84.16,  88.12,  92.08,\n",
              "         96.04, 100.  ]),\n",
              " <a list of 25 Patch objects>)"
            ]
          },
          "metadata": {
            "tags": []
          },
          "execution_count": 39
        },
        {
          "output_type": "display_data",
          "data": {
            "image/png": "[encoded data removed]",
            "text/plain": [
              "<Figure size 432x288 with 1 Axes>"
            ]
          },
          "metadata": {
            "tags": []
          }
        }
      ]
    }
  ]
}