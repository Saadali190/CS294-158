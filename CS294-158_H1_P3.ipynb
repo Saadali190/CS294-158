{
  "nbformat": 4,
  "nbformat_minor": 0,
  "metadata": {
    "colab": {
      "name": "cs294-158_H1_P3.ipynb",
      "provenance": [],
      "collapsed_sections": []
    },
    "kernelspec": {
      "name": "python3",
      "display_name": "Python 3"
    },
    "accelerator": "GPU"
  },
  "cells": [
    {
      "cell_type": "code",
      "metadata": {
        "id": "C6cqF1XtVY7Z",
        "colab": {
          "base_uri": "https://localhost:8080/",
          "height": 124
        },
        "outputId": "a5fc7833-cc5f-4630-a37b-3f19bf330d79"
      },
      "source": [
        "from google.colab import drive\n",
        "drive.mount('/content/drive', force_remount=True)"
      ],
      "execution_count": null,
      "outputs": [
        {
          "output_type": "stream",
          "text": [
            "Go to this URL in a browser: https://accounts.google.com/o/oauth2/auth?client_id=947318989803-6bn6qk8qdgf4n4g3pfee6491hc0brc4i.apps.googleusercontent.com&redirect_uri=urn%3aietf%3awg%3aoauth%3a2.0%3aoob&response_type=code&scope=email%20https%3a%2f%2fwww.googleapis.com%2fauth%2fdocs.test%20https%3a%2f%2fwww.googleapis.com%2fauth%2fdrive%20https%3a%2f%2fwww.googleapis.com%2fauth%2fdrive.photos.readonly%20https%3a%2f%2fwww.googleapis.com%2fauth%2fpeopleapi.readonly\n",
            "\n",
            "Enter your authorization code:\n",
            "··········\n",
            "Mounted at /content/drive\n"
          ],
          "name": "stdout"
        }
      ]
    },
    {
      "cell_type": "code",
      "metadata": {
        "id": "M4KLL72PFrC0"
      },
      "source": [
        "import tensorflow as tf\n",
        "import numpy as np\n",
        "import pickle as pkl\n",
        "import matplotlib.pyplot as plt"
      ],
      "execution_count": null,
      "outputs": []
    },
    {
      "cell_type": "code",
      "metadata": {
        "id": "6LW_DUcsVCe7",
        "colab": {
          "base_uri": "https://localhost:8080/",
          "height": 34
        },
        "outputId": "356fa354-4ee3-45cc-86db-2b7dd05ce1ff"
      },
      "source": [
        "with open('/content/drive/My Drive/mnist-hw1.pkl', 'rb') as f:\n",
        "  data = pkl.load(f)\n",
        "  train, val = data['train'], data['test']\n",
        "print(train.shape,val.shape)"
      ],
      "execution_count": null,
      "outputs": [
        {
          "output_type": "stream",
          "text": [
            "(60000, 28, 28, 3) (10000, 28, 28, 3)\n"
          ],
          "name": "stdout"
        }
      ]
    },
    {
      "cell_type": "code",
      "metadata": {
        "id": "j4k6enQN8Aq1",
        "colab": {
          "base_uri": "https://localhost:8080/",
          "height": 34
        },
        "outputId": "4c2515e4-e84c-44f1-94ec-b4edadff0f69"
      },
      "source": [
        "tf.test.is_gpu_available()"
      ],
      "execution_count": null,
      "outputs": [
        {
          "output_type": "execute_result",
          "data": {
            "text/plain": [
              "True"
            ]
          },
          "metadata": {
            "tags": []
          },
          "execution_count": 6
        }
      ]
    },
    {
      "cell_type": "code",
      "metadata": {
        "id": "dTICZrJEXq3O",
        "colab": {
          "base_uri": "https://localhost:8080/",
          "height": 575
        },
        "outputId": "9efebd67-448d-458f-e8d2-d301c9fb1a6a"
      },
      "source": [
        "def show_img(img):\n",
        "    plt.figure(figsize=[10,10])\n",
        "    img = np.asarray(img, dtype=np.float32)/np.max(img)\n",
        "    for k in range(4):\n",
        "        for l in range(4):\n",
        "            plt.subplot(4, 4, 4 * k + l + 1)\n",
        "            plt.imshow(img[4 * k + l])\n",
        "            plt.axis('off')\n",
        "            plt.grid(False)\n",
        "\n",
        "show_img(train[:16])\n",
        "plt.show()\n"
      ],
      "execution_count": null,
      "outputs": [
        {
          "output_type": "display_data",
          "data": {
            "image/png": "[encoded data removed]",
            "text/plain": [
              "<Figure size 720x720 with 16 Axes>"
            ]
          },
          "metadata": {
            "tags": []
          }
        }
      ]
    },
    {
      "cell_type": "code",
      "metadata": {
        "id": "K_XjfJo4Cw7l"
      },
      "source": [
        "def sample_img( model, nrof_samples=16, inp_shape=(28,28,3), max_value=4):\n",
        "  H, W, C = inp_shape\n",
        "  img = np.zeros((nrof_samples, H, W, C), dtype=np.uint8)\n",
        "  img[:, 0, 0, 0] = np.random.choice(max_value , size=(nrof_samples,))\n",
        "  for i in range(H):\n",
        "    for j in range(W):\n",
        "      for c in range(C):\n",
        "        if len(model)>1:\n",
        "          L , p = model[0].loss(img, model[1])\n",
        "        else:\n",
        "          L , p = model[0].loss(img)\n",
        "        p = tf.cast(p, tf.float64)\n",
        "        p = tf.truediv(p, tf.reduce_sum(p, axis=-1, keepdims=True))  \n",
        "        for k in range(nrof_samples):\n",
        "           img[k, i, j, c] = np.random.choice(max_value, p=p[k,i,j,c])\n",
        "  return img\n",
        "      "
      ],
      "execution_count": null,
      "outputs": []
    },
    {
      "cell_type": "code",
      "metadata": {
        "id": "V7c3Wkcy_99S"
      },
      "source": [
        "class pixelcnn(object):\n",
        "  def __init__(self, inp_shape =(28,28,3), nrof_res_blocks=12, color_dims=4):\n",
        "    self.nrof_res_blocks = nrof_res_blocks\n",
        "    self.color_dims = color_dims\n",
        "    self.inp_shape = inp_shape\n",
        "    self.nrof_filters=64\n",
        "    self.var=[]\n",
        "    self.mask = []\n",
        "    self.m=0\n",
        "    self.idx = 0\n",
        "    self.initializer = tf.initializers.GlorotUniform()\n",
        "  \n",
        "\n",
        "  def masked_conv_w(self,C , out_dim, f_size, mtype='a'):\n",
        "    fh, fw = f_size\n",
        "    mask = np.zeros((fh, fw, C , out_dim))\n",
        "    mask[fh//2,:fw//2,:,:] = 1.\n",
        "    mask[:fh//2, :, :, :] = 1. \n",
        "    if mtype == 'b' :\n",
        "      mask[fh//2, fw//2,:,:] = 1.\n",
        "    \n",
        "    self.var += [tf.Variable(self.initializer((fh, fw, C, out_dim)))]\n",
        "    self.var += [tf.Variable(tf.zeros((self.inp_shape[0], self.inp_shape[1], out_dim)))]\n",
        "    self.mask+= [mask]\n",
        "  \n",
        "  def init_weights(self):\n",
        "    out_dim=self.nrof_filters\n",
        "    _ =self.masked_conv_w(3 , out_dim*2, [7,7])\n",
        "    for i in range(self.nrof_res_blocks):\n",
        "      self.masked_conv_w(out_dim*2 ,out_dim , [1,1], mtype='b')\n",
        "      self.masked_conv_w(out_dim ,out_dim , [3,3], mtype='b')\n",
        "      self.masked_conv_w(out_dim ,out_dim*2 , [1,1], mtype='b')\n",
        "    self.masked_conv_w(out_dim*2 ,out_dim , [3,3], mtype='b')\n",
        "    self.masked_conv_w(out_dim ,out_dim , [1,1], mtype='b')\n",
        "    self.masked_conv_w(out_dim ,self.color_dims*3 , [1,1], mtype='b')\n",
        "\n",
        "  def residual_block(self, inp):\n",
        "    nn = tf.nn.relu(inp)\n",
        "    nn = tf.nn.conv2d(input= nn, filters= self.var[self.idx]*self.mask[self.m],strides=[1,1] , padding='SAME')+self.var[self.idx+1]\n",
        "    self.idx+=2\n",
        "    self.m+=1\n",
        "    nn = tf.nn.relu(nn)\n",
        "    nn = nn = tf.nn.conv2d(input= nn, filters= self.var[self.idx]*self.mask[self.m] ,strides=[1,1] , padding='SAME')+self.var[self.idx+1]\n",
        "    self.idx+=2\n",
        "    self.m+=1\n",
        "    nn = tf.nn.relu(nn)\n",
        "    nn = tf.nn.conv2d(input= nn, filters= self.var[self.idx]*self.mask[self.m] ,strides=[1,1] , padding='SAME')+self.var[self.idx+1]\n",
        "    self.idx+=2\n",
        "    self.m+=1\n",
        "    return nn+inp\n",
        "  \n",
        "  def forward(self, x ):\n",
        "    inp = tf.cast(x, tf.int8)\n",
        "    x = tf.cast(x, tf.float32)\n",
        "    x = tf.multiply(x, 1/tf.reduce_max(x))\n",
        "    x = tf.nn.conv2d(input= x, filters= self.var[self.idx]*self.mask[self.m] ,strides=[1,1] , padding='SAME')+self.var[self.idx+1]\n",
        "    self.idx+=2\n",
        "    self.m+=1\n",
        "    for i in range(self.nrof_res_blocks):\n",
        "      x = self.residual_block(x)\n",
        "    x = tf.nn.conv2d(input= x, filters= self.var[self.idx]*self.mask[self.m] ,strides=[1,1] , padding='SAME')+self.var[self.idx+1]\n",
        "    self.idx+=2\n",
        "    self.m+=1\n",
        "    x = tf.nn.relu(x)\n",
        "    x = tf.nn.conv2d(input= x, filters= self.var[self.idx]*self.mask[self.m] ,strides=[1,1] , padding='SAME')+self.var[self.idx+1]\n",
        "    self.idx+=2\n",
        "    self.m+=1\n",
        "    x = tf.nn.relu(x)\n",
        "    x = tf.nn.conv2d(input= x, filters= self.var[self.idx]*self.mask[self.m] ,strides=[1,1] , padding='SAME')+self.var[self.idx+1]\n",
        "    self.idx=0\n",
        "    self.m=0\n",
        "    return x\n",
        " \n",
        "  def loss(self, inp):\n",
        "    N, H, W, C = inp.shape\n",
        "    x= self.forward(inp)\n",
        "    logits = tf.reshape(x, (-1, H, W, C, self.color_dims))\n",
        "    p = tf.nn.softmax(logits)\n",
        "    inp = tf.cast(inp, tf.int32)\n",
        "    loss =  tf.nn.sparse_softmax_cross_entropy_with_logits(labels=inp, logits=logits)\n",
        "    loss = tf.math.reduce_mean(loss)/ tf.math.log(2.) \n",
        "    return loss, p\n"
      ],
      "execution_count": null,
      "outputs": []
    },
    {
      "cell_type": "code",
      "metadata": {
        "id": "JR4JWrgyM2Ti",
        "colab": {
          "base_uri": "https://localhost:8080/",
          "height": 1000
        },
        "outputId": "c9ff7e19-faca-47f3-d810-f0793e622a4a"
      },
      "source": [
        "batch_size = 127\n",
        "lr =1e-3\n",
        "num_epochs =10\n",
        "opt = tf.optimizers.RMSprop(learning_rate=lr , decay=0.1)\n",
        "pcnn = pixelcnn()\n",
        "pcnn.init_weights()\n",
        "\n",
        "trn_loss, val_loss = [],[]\n",
        "for epoch in range(num_epochs):\n",
        "  \n",
        "    batch_loss =[]\n",
        "    for  step, batch in enumerate(np.array_split(train, train.shape[0]//batch_size)):\n",
        "      with tf.GradientTape() as tape:\n",
        "        loss, _ = pcnn.loss(batch)\n",
        "      batch_loss.append(loss)\n",
        "      gradients = tape.gradient(loss, pcnn.var)\n",
        "      opt.apply_gradients(zip(gradients, pcnn.var))\n",
        "      if step % 50 == 0:\n",
        "        print('batch: {}  Train loss: {} '.format(step, batch_loss[-1]))\n",
        "    np.random.shuffle(train)              \n",
        "    if epoch % 1 == 0:\n",
        "      trn_loss.append(tf.math.reduce_mean(batch_loss))\n",
        "      vloss =[]\n",
        "      for vx in np.array_split(val, batch_size):\n",
        "         vl,_ = pcnn.loss(vx)\n",
        "         vloss.append(vl)\n",
        "      vloss = tf.math.reduce_mean(vloss)\n",
        "      val_loss.append(vloss)\n",
        "      print('Epoch: {}  Train loss: {}  Validation Loss: {} '.format(epoch, trn_loss[-1], val_loss[-1]))\n",
        " "
      ],
      "execution_count": null,
      "outputs": [
        {
          "output_type": "stream",
          "text": [
            "batch: 0  Train loss: 2.0052459239959717 \n",
            "batch: 50  Train loss: 0.8853416442871094 \n",
            "batch: 100  Train loss: 0.7049593925476074 \n",
            "batch: 150  Train loss: 0.608596682548523 \n",
            "batch: 200  Train loss: 0.5939251780509949 \n",
            "batch: 250  Train loss: 0.5357925295829773 \n",
            "batch: 300  Train loss: 0.5193167924880981 \n",
            "batch: 350  Train loss: 0.5539398193359375 \n",
            "batch: 400  Train loss: 0.5035418272018433 \n",
            "batch: 450  Train loss: 0.49169430136680603 \n",
            "Epoch: 0  Train loss: 0.6467936635017395  Validation Loss: 0.4919460117816925 \n",
            "batch: 0  Train loss: 0.4923666715621948 \n",
            "batch: 50  Train loss: 0.4796335697174072 \n",
            "batch: 100  Train loss: 0.4606592357158661 \n",
            "batch: 150  Train loss: 0.47167569398880005 \n",
            "batch: 200  Train loss: 0.4720342457294464 \n",
            "batch: 250  Train loss: 0.45294734835624695 \n",
            "batch: 300  Train loss: 0.45326998829841614 \n",
            "batch: 350  Train loss: 0.45080792903900146 \n",
            "batch: 400  Train loss: 0.4558406472206116 \n",
            "batch: 450  Train loss: 0.4618098735809326 \n",
            "Epoch: 1  Train loss: 0.470065176486969  Validation Loss: 0.44863662123680115 \n",
            "batch: 0  Train loss: 0.4533236026763916 \n",
            "batch: 50  Train loss: 0.4536283612251282 \n",
            "batch: 100  Train loss: 0.45632031559944153 \n",
            "batch: 150  Train loss: 0.45522159337997437 \n",
            "batch: 200  Train loss: 0.443019300699234 \n",
            "batch: 250  Train loss: 0.455379843711853 \n",
            "batch: 300  Train loss: 0.4389876425266266 \n",
            "batch: 350  Train loss: 0.4342139661312103 \n",
            "batch: 400  Train loss: 0.44197404384613037 \n",
            "batch: 450  Train loss: 0.44419944286346436 \n",
            "Epoch: 2  Train loss: 0.441763311624527  Validation Loss: 0.43191686272621155 \n",
            "batch: 0  Train loss: 0.4270372688770294 \n",
            "batch: 50  Train loss: 0.4263054430484772 \n",
            "batch: 100  Train loss: 0.42601707577705383 \n",
            "batch: 150  Train loss: 0.4333672523498535 \n",
            "batch: 200  Train loss: 0.43126747012138367 \n",
            "batch: 250  Train loss: 0.4322090446949005 \n",
            "batch: 300  Train loss: 0.42703282833099365 \n",
            "batch: 350  Train loss: 0.4289248287677765 \n",
            "batch: 400  Train loss: 0.41876456141471863 \n",
            "batch: 450  Train loss: 0.4096839129924774 \n",
            "Epoch: 3  Train loss: 0.42642831802368164  Validation Loss: 0.418147474527359 \n",
            "batch: 0  Train loss: 0.42415857315063477 \n",
            "batch: 50  Train loss: 0.4079091250896454 \n",
            "batch: 100  Train loss: 0.4275144636631012 \n",
            "batch: 150  Train loss: 0.4351942241191864 \n",
            "batch: 200  Train loss: 0.41222065687179565 \n",
            "batch: 250  Train loss: 0.4333328604698181 \n",
            "batch: 300  Train loss: 0.4046348035335541 \n",
            "batch: 350  Train loss: 0.40530914068222046 \n",
            "batch: 400  Train loss: 0.42267903685569763 \n",
            "batch: 450  Train loss: 0.4163474142551422 \n",
            "Epoch: 4  Train loss: 0.41601088643074036  Validation Loss: 0.41014790534973145 \n",
            "batch: 0  Train loss: 0.4003850817680359 \n",
            "batch: 50  Train loss: 0.41285794973373413 \n",
            "batch: 100  Train loss: 0.4090025722980499 \n",
            "batch: 150  Train loss: 0.39131173491477966 \n",
            "batch: 200  Train loss: 0.40496712923049927 \n",
            "batch: 250  Train loss: 0.4046039879322052 \n",
            "batch: 300  Train loss: 0.40693381428718567 \n",
            "batch: 350  Train loss: 0.4007655680179596 \n",
            "batch: 400  Train loss: 0.4019554853439331 \n",
            "batch: 450  Train loss: 0.404556542634964 \n",
            "Epoch: 5  Train loss: 0.40831026434898376  Validation Loss: 0.40348032116889954 \n",
            "batch: 0  Train loss: 0.4017145335674286 \n",
            "batch: 50  Train loss: 0.39180052280426025 \n",
            "batch: 100  Train loss: 0.39453229308128357 \n",
            "batch: 150  Train loss: 0.407234787940979 \n",
            "batch: 200  Train loss: 0.41457095742225647 \n",
            "batch: 250  Train loss: 0.4012632668018341 \n",
            "batch: 300  Train loss: 0.38662490248680115 \n",
            "batch: 350  Train loss: 0.4273393154144287 \n",
            "batch: 400  Train loss: 0.3990732729434967 \n",
            "batch: 450  Train loss: 0.40907350182533264 \n",
            "Epoch: 6  Train loss: 0.40228429436683655  Validation Loss: 0.39832139015197754 \n",
            "batch: 0  Train loss: 0.39502161741256714 \n",
            "batch: 50  Train loss: 0.40174660086631775 \n",
            "batch: 100  Train loss: 0.40335163474082947 \n",
            "batch: 150  Train loss: 0.3905314803123474 \n",
            "batch: 200  Train loss: 0.4128587543964386 \n",
            "batch: 250  Train loss: 0.39039576053619385 \n",
            "batch: 300  Train loss: 0.403907835483551 \n",
            "batch: 350  Train loss: 0.3946625292301178 \n",
            "batch: 400  Train loss: 0.39634838700294495 \n",
            "batch: 450  Train loss: 0.3816430866718292 \n",
            "Epoch: 7  Train loss: 0.3973167836666107  Validation Loss: 0.3939320147037506 \n",
            "batch: 0  Train loss: 0.38103529810905457 \n",
            "batch: 50  Train loss: 0.3967587649822235 \n",
            "batch: 100  Train loss: 0.38852131366729736 \n",
            "batch: 150  Train loss: 0.3733040690422058 \n",
            "batch: 200  Train loss: 0.41993510723114014 \n",
            "batch: 250  Train loss: 0.3866220712661743 \n",
            "batch: 300  Train loss: 0.4046691656112671 \n",
            "batch: 350  Train loss: 0.38328126072883606 \n",
            "batch: 400  Train loss: 0.39313775300979614 \n",
            "batch: 450  Train loss: 0.3996712565422058 \n",
            "Epoch: 8  Train loss: 0.3931286633014679  Validation Loss: 0.3896752893924713 \n",
            "batch: 0  Train loss: 0.3822605013847351 \n",
            "batch: 50  Train loss: 0.40828534960746765 \n",
            "batch: 100  Train loss: 0.4099191129207611 \n",
            "batch: 150  Train loss: 0.3831077814102173 \n",
            "batch: 200  Train loss: 0.4064086675643921 \n"
          ],
          "name": "stdout"
        },
        {
          "output_type": "error",
          "ename": "KeyboardInterrupt",
          "evalue": "ignored",
          "traceback": [
            "\u001b[0;31m---------------------------------------------------------------------------\u001b[0m",
            "\u001b[0;31mKeyboardInterrupt\u001b[0m                         Traceback (most recent call last)",
            "\u001b[0;32m<ipython-input-43-dfec4bc5eac6>\u001b[0m in \u001b[0;36m<module>\u001b[0;34m()\u001b[0m\n\u001b[1;32m     14\u001b[0m         \u001b[0mloss\u001b[0m\u001b[0;34m,\u001b[0m \u001b[0m_\u001b[0m \u001b[0;34m=\u001b[0m \u001b[0mpcnn\u001b[0m\u001b[0;34m.\u001b[0m\u001b[0mloss\u001b[0m\u001b[0;34m(\u001b[0m\u001b[0mbatch\u001b[0m\u001b[0;34m)\u001b[0m\u001b[0;34m\u001b[0m\u001b[0;34m\u001b[0m\u001b[0m\n\u001b[1;32m     15\u001b[0m       \u001b[0mbatch_loss\u001b[0m\u001b[0;34m.\u001b[0m\u001b[0mappend\u001b[0m\u001b[0;34m(\u001b[0m\u001b[0mloss\u001b[0m\u001b[0;34m)\u001b[0m\u001b[0;34m\u001b[0m\u001b[0;34m\u001b[0m\u001b[0m\n\u001b[0;32m---> 16\u001b[0;31m       \u001b[0mgradients\u001b[0m \u001b[0;34m=\u001b[0m \u001b[0mtape\u001b[0m\u001b[0;34m.\u001b[0m\u001b[0mgradient\u001b[0m\u001b[0;34m(\u001b[0m\u001b[0mloss\u001b[0m\u001b[0;34m,\u001b[0m \u001b[0mpcnn\u001b[0m\u001b[0;34m.\u001b[0m\u001b[0mvar\u001b[0m\u001b[0;34m)\u001b[0m\u001b[0;34m\u001b[0m\u001b[0;34m\u001b[0m\u001b[0m\n\u001b[0m\u001b[1;32m     17\u001b[0m       \u001b[0mopt\u001b[0m\u001b[0;34m.\u001b[0m\u001b[0mapply_gradients\u001b[0m\u001b[0;34m(\u001b[0m\u001b[0mzip\u001b[0m\u001b[0;34m(\u001b[0m\u001b[0mgradients\u001b[0m\u001b[0;34m,\u001b[0m \u001b[0mpcnn\u001b[0m\u001b[0;34m.\u001b[0m\u001b[0mvar\u001b[0m\u001b[0;34m)\u001b[0m\u001b[0;34m)\u001b[0m\u001b[0;34m\u001b[0m\u001b[0;34m\u001b[0m\u001b[0m\n\u001b[1;32m     18\u001b[0m       \u001b[0;32mif\u001b[0m \u001b[0mstep\u001b[0m \u001b[0;34m%\u001b[0m \u001b[0;36m50\u001b[0m \u001b[0;34m==\u001b[0m \u001b[0;36m0\u001b[0m\u001b[0;34m:\u001b[0m\u001b[0;34m\u001b[0m\u001b[0;34m\u001b[0m\u001b[0m\n",
            "\u001b[0;32m/usr/local/lib/python3.6/dist-packages/tensorflow_core/python/eager/backprop.py\u001b[0m in \u001b[0;36mgradient\u001b[0;34m(self, target, sources, output_gradients, unconnected_gradients)\u001b[0m\n\u001b[1;32m   1012\u001b[0m         \u001b[0moutput_gradients\u001b[0m\u001b[0;34m=\u001b[0m\u001b[0moutput_gradients\u001b[0m\u001b[0;34m,\u001b[0m\u001b[0;34m\u001b[0m\u001b[0;34m\u001b[0m\u001b[0m\n\u001b[1;32m   1013\u001b[0m         \u001b[0msources_raw\u001b[0m\u001b[0;34m=\u001b[0m\u001b[0mflat_sources_raw\u001b[0m\u001b[0;34m,\u001b[0m\u001b[0;34m\u001b[0m\u001b[0;34m\u001b[0m\u001b[0m\n\u001b[0;32m-> 1014\u001b[0;31m         unconnected_gradients=unconnected_gradients)\n\u001b[0m\u001b[1;32m   1015\u001b[0m \u001b[0;34m\u001b[0m\u001b[0m\n\u001b[1;32m   1016\u001b[0m     \u001b[0;32mif\u001b[0m \u001b[0;32mnot\u001b[0m \u001b[0mself\u001b[0m\u001b[0;34m.\u001b[0m\u001b[0m_persistent\u001b[0m\u001b[0;34m:\u001b[0m\u001b[0;34m\u001b[0m\u001b[0;34m\u001b[0m\u001b[0m\n",
            "\u001b[0;32m/usr/local/lib/python3.6/dist-packages/tensorflow_core/python/eager/imperative_grad.py\u001b[0m in \u001b[0;36mimperative_grad\u001b[0;34m(tape, target, sources, output_gradients, sources_raw, unconnected_gradients)\u001b[0m\n\u001b[1;32m     74\u001b[0m       \u001b[0moutput_gradients\u001b[0m\u001b[0;34m,\u001b[0m\u001b[0;34m\u001b[0m\u001b[0;34m\u001b[0m\u001b[0m\n\u001b[1;32m     75\u001b[0m       \u001b[0msources_raw\u001b[0m\u001b[0;34m,\u001b[0m\u001b[0;34m\u001b[0m\u001b[0;34m\u001b[0m\u001b[0m\n\u001b[0;32m---> 76\u001b[0;31m       compat.as_str(unconnected_gradients.value))\n\u001b[0m",
            "\u001b[0;32m/usr/local/lib/python3.6/dist-packages/tensorflow_core/python/eager/backprop.py\u001b[0m in \u001b[0;36m_gradient_function\u001b[0;34m(op_name, attr_tuple, num_inputs, inputs, outputs, out_grads, skip_input_indices)\u001b[0m\n\u001b[1;32m    136\u001b[0m     \u001b[0;32mreturn\u001b[0m \u001b[0;34m[\u001b[0m\u001b[0;32mNone\u001b[0m\u001b[0;34m]\u001b[0m \u001b[0;34m*\u001b[0m \u001b[0mnum_inputs\u001b[0m\u001b[0;34m\u001b[0m\u001b[0;34m\u001b[0m\u001b[0m\n\u001b[1;32m    137\u001b[0m \u001b[0;34m\u001b[0m\u001b[0m\n\u001b[0;32m--> 138\u001b[0;31m   \u001b[0;32mreturn\u001b[0m \u001b[0mgrad_fn\u001b[0m\u001b[0;34m(\u001b[0m\u001b[0mmock_op\u001b[0m\u001b[0;34m,\u001b[0m \u001b[0;34m*\u001b[0m\u001b[0mout_grads\u001b[0m\u001b[0;34m)\u001b[0m\u001b[0;34m\u001b[0m\u001b[0;34m\u001b[0m\u001b[0m\n\u001b[0m\u001b[1;32m    139\u001b[0m \u001b[0;34m\u001b[0m\u001b[0m\n\u001b[1;32m    140\u001b[0m \u001b[0;34m\u001b[0m\u001b[0m\n",
            "\u001b[0;32m/usr/local/lib/python3.6/dist-packages/tensorflow_core/python/ops/math_grad.py\u001b[0m in \u001b[0;36m_MulGrad\u001b[0;34m(op, grad)\u001b[0m\n\u001b[1;32m   1175\u001b[0m       \u001b[0m_ShapesFullySpecifiedAndEqual\u001b[0m\u001b[0;34m(\u001b[0m\u001b[0mx\u001b[0m\u001b[0;34m,\u001b[0m \u001b[0my\u001b[0m\u001b[0;34m,\u001b[0m \u001b[0mgrad\u001b[0m\u001b[0;34m)\u001b[0m \u001b[0;32mand\u001b[0m\u001b[0;34m\u001b[0m\u001b[0;34m\u001b[0m\u001b[0m\n\u001b[1;32m   1176\u001b[0m       grad.dtype in (dtypes.int32, dtypes.float32)):\n\u001b[0;32m-> 1177\u001b[0;31m     \u001b[0;32mreturn\u001b[0m \u001b[0mgen_math_ops\u001b[0m\u001b[0;34m.\u001b[0m\u001b[0mmul\u001b[0m\u001b[0;34m(\u001b[0m\u001b[0mgrad\u001b[0m\u001b[0;34m,\u001b[0m \u001b[0my\u001b[0m\u001b[0;34m)\u001b[0m\u001b[0;34m,\u001b[0m \u001b[0mgen_math_ops\u001b[0m\u001b[0;34m.\u001b[0m\u001b[0mmul\u001b[0m\u001b[0;34m(\u001b[0m\u001b[0mgrad\u001b[0m\u001b[0;34m,\u001b[0m \u001b[0mx\u001b[0m\u001b[0;34m)\u001b[0m\u001b[0;34m\u001b[0m\u001b[0;34m\u001b[0m\u001b[0m\n\u001b[0m\u001b[1;32m   1178\u001b[0m   \u001b[0;32massert\u001b[0m \u001b[0mx\u001b[0m\u001b[0;34m.\u001b[0m\u001b[0mdtype\u001b[0m\u001b[0;34m.\u001b[0m\u001b[0mbase_dtype\u001b[0m \u001b[0;34m==\u001b[0m \u001b[0my\u001b[0m\u001b[0;34m.\u001b[0m\u001b[0mdtype\u001b[0m\u001b[0;34m.\u001b[0m\u001b[0mbase_dtype\u001b[0m\u001b[0;34m,\u001b[0m \u001b[0;34m(\u001b[0m\u001b[0mx\u001b[0m\u001b[0;34m.\u001b[0m\u001b[0mdtype\u001b[0m\u001b[0;34m,\u001b[0m \u001b[0;34m\" vs. \"\u001b[0m\u001b[0;34m,\u001b[0m \u001b[0my\u001b[0m\u001b[0;34m.\u001b[0m\u001b[0mdtype\u001b[0m\u001b[0;34m)\u001b[0m\u001b[0;34m\u001b[0m\u001b[0;34m\u001b[0m\u001b[0m\n\u001b[1;32m   1179\u001b[0m \u001b[0;34m\u001b[0m\u001b[0m\n",
            "\u001b[0;32m/usr/local/lib/python3.6/dist-packages/tensorflow_core/python/ops/gen_math_ops.py\u001b[0m in \u001b[0;36mmul\u001b[0;34m(x, y, name)\u001b[0m\n\u001b[1;32m   6683\u001b[0m       _result = _pywrap_tensorflow.TFE_Py_FastPathExecute(\n\u001b[1;32m   6684\u001b[0m         \u001b[0m_ctx\u001b[0m\u001b[0;34m.\u001b[0m\u001b[0m_context_handle\u001b[0m\u001b[0;34m,\u001b[0m \u001b[0m_ctx\u001b[0m\u001b[0;34m.\u001b[0m\u001b[0m_thread_local_data\u001b[0m\u001b[0;34m.\u001b[0m\u001b[0mdevice_name\u001b[0m\u001b[0;34m,\u001b[0m \u001b[0;34m\"Mul\"\u001b[0m\u001b[0;34m,\u001b[0m\u001b[0;34m\u001b[0m\u001b[0;34m\u001b[0m\u001b[0m\n\u001b[0;32m-> 6685\u001b[0;31m         name, _ctx._post_execution_callbacks, x, y)\n\u001b[0m\u001b[1;32m   6686\u001b[0m       \u001b[0;32mreturn\u001b[0m \u001b[0m_result\u001b[0m\u001b[0;34m\u001b[0m\u001b[0;34m\u001b[0m\u001b[0m\n\u001b[1;32m   6687\u001b[0m     \u001b[0;32mexcept\u001b[0m \u001b[0m_core\u001b[0m\u001b[0;34m.\u001b[0m\u001b[0m_FallbackException\u001b[0m\u001b[0;34m:\u001b[0m\u001b[0;34m\u001b[0m\u001b[0;34m\u001b[0m\u001b[0m\n",
            "\u001b[0;31mKeyboardInterrupt\u001b[0m: "
          ]
        }
      ]
    },
    {
      "cell_type": "code",
      "metadata": {
        "id": "_jYsAQT-al0w",
        "colab": {
          "base_uri": "https://localhost:8080/",
          "height": 575
        },
        "outputId": "d1ea4aec-e68e-4567-946d-87f36d91430e"
      },
      "source": [
        "img = sample_img([pcnn])\n",
        "show_img(img)\n",
        "plt.show()"
      ],
      "execution_count": null,
      "outputs": [
        {
          "output_type": "display_data",
          "data": {
            "image/png": "[encoded data removed]",
            "text/plain": [
              "<Figure size 720x720 with 16 Axes>"
            ]
          },
          "metadata": {
            "tags": []
          }
        }
      ]
    },
    {
      "cell_type": "code",
      "metadata": {
        "id": "Yorx0naosDk_"
      },
      "source": [
        "class made(object):\n",
        "  \n",
        "  def __init__(self, inp_shape=24, nrof_aux= 4*3 , nrof_dims=3 , nrof_bins=4, nrof_layers=2 , nrof_units=[128, 128, 12] ):\n",
        "    self.naux = nrof_aux\n",
        "    self.dims = nrof_dims\n",
        "    self.units= nrof_units\n",
        "    self.no_layers = nrof_layers\n",
        "    self.bins = nrof_bins\n",
        "    self.inp_shape = inp_shape\n",
        "    self.initializer = tf.initializers.GlorotUniform()\n",
        "    self.var = []\n",
        "    self.idx=0\n",
        "\n",
        "\n",
        "  def init_weights(self):\n",
        "    inp = self.inp_shape\n",
        "    for i in range(self.no_layers+1):\n",
        "      self.var.append(tf.Variable(self.initializer((inp, self.units[i]))))\n",
        "      self.var.append(tf.Variable(tf.zeros((self.units[i]))))\n",
        "      inp = self.units[i] + self.naux\n",
        "\n",
        "  \n",
        "  def get_masks(self, nrof_units=128, nrof_layers=2, nrof_dims=3, nrof_aux=4*3, nrof_bins=4):\n",
        "    m = []\n",
        "    m0 = np.repeat(np.arange(nrof_dims), nrof_bins)\n",
        "    m += [ m0 ]\n",
        "    for i in range(nrof_layers):\n",
        "        rep = int(np.ceil(nrof_units/((nrof_dims-1))))\n",
        "        mx = np.repeat(np.arange(nrof_dims-1), rep)[:nrof_units]\n",
        "        m += [ mx ]\n",
        "        \n",
        "    mask = []\n",
        "    for i in range(len(m)-1):\n",
        "        msk = m[i+1][:,None] >= m[i][None,:]\n",
        "        cx = np.ones((msk.shape[0], nrof_aux))\n",
        "        msk2 = np.concatenate((cx, msk), axis=1)\n",
        "        mask += [ msk2.T ]\n",
        "    msk = m0[:,None] > m[-1][None,:]\n",
        "    cx = np.ones((msk.shape[0], nrof_aux))\n",
        "    msk2 = np.concatenate((cx, msk), axis=1)\n",
        "    mask += [ msk2.T ]\n",
        "        \n",
        "    return mask\n",
        "  \n",
        "  def forward(self, inp, pcnn):\n",
        "    aux = pcnn.forward(inp)\n",
        "    inp = tf.one_hot(inp, 4)\n",
        "    x = tf.cast(inp, tf.float32)\n",
        "    x = tf.multiply(x, 1/3.)\n",
        "    aux = tf.reshape(aux, (-1, 4*3))\n",
        "    x = tf.reshape( x, (-1, 4*3))\n",
        "    mask = self.get_masks()\n",
        "    for i in range(self.no_layers+1):\n",
        "      x = tf.concat([aux , x ], axis=-1)\n",
        "      x = tf.tensordot(x, self.var[self.idx]*mask[i],1)+ self.var[self.idx+1]\n",
        "      if i < self.no_layers:\n",
        "        x = tf.nn.relu(x)\n",
        "      self.idx+=2\n",
        "    x = tf.reshape(x, (-1, 28,28,3,4))\n",
        "    self.idx=0\n",
        "    return x\n",
        "\n",
        "  def loss(self, inp, pcnn):\n",
        "    y = self.forward(inp, pcnn)\n",
        "    inp = tf.cast(inp, tf.int32)\n",
        "    loss =  tf.nn.sparse_softmax_cross_entropy_with_logits(labels=inp, logits=y)\n",
        "    loss = tf.math.reduce_mean(loss)/ tf.math.log(2.)\n",
        "    p = tf.nn.softmax(y, axis=-1)\n",
        "    return loss, p \n",
        "    "
      ],
      "execution_count": null,
      "outputs": []
    },
    {
      "cell_type": "code",
      "metadata": {
        "id": "EwEkfC_pwSEE",
        "colab": {
          "base_uri": "https://localhost:8080/",
          "height": 1000
        },
        "outputId": "a795be7a-21c1-4764-80b6-49c7b4d88ba7"
      },
      "source": [
        "batch_size = 127\n",
        "lr =1e-4\n",
        "num_epochs =15\n",
        "opt = tf.optimizers.RMSprop(learning_rate=lr )\n",
        "made = made()\n",
        "made.init_weights()\n",
        "var = pcnn.var + made.var\n",
        "trn_loss, val_loss = [],[]\n",
        "for epoch in range(num_epochs):\n",
        "  \n",
        "    batch_loss =[]\n",
        "    for  step, batch in enumerate(np.array_split(train, train.shape[0]//batch_size)):\n",
        "      with tf.GradientTape() as tape:\n",
        "        loss, _ = made.loss(batch, pcnn)\n",
        "      batch_loss.append(loss)\n",
        "      gradients = tape.gradient(loss, var)\n",
        "      opt.apply_gradients(zip(gradients, var))\n",
        "      if step % 50 == 0:\n",
        "        print('batch: {}  Train loss: {} '.format(step, batch_loss[-1]))\n",
        "    np.random.shuffle(train)              \n",
        "    if epoch % 1 == 0:\n",
        "      #img = sample_img([pcnn])\n",
        "      #show_img(img)\n",
        "      #plt.show()\n",
        "      trn_loss.append(tf.math.reduce_mean(batch_loss))\n",
        "      vloss =[]\n",
        "      for vx in np.array_split(val, batch_size):\n",
        "         vl,_ = made.loss(vx, pcnn)\n",
        "         vloss.append(vl)\n",
        "      vloss = tf.math.reduce_mean(vloss)\n",
        "      val_loss.append(vloss)\n",
        "      print('Epoch: {}  Train loss: {}  Validation Loss: {} '.format(epoch, trn_loss[-1], val_loss[-1]))\n",
        " "
      ],
      "execution_count": null,
      "outputs": [
        {
          "output_type": "stream",
          "text": [
            "batch: 0  Train loss: 2.9509365558624268 \n",
            "batch: 50  Train loss: 0.5521051287651062 \n",
            "batch: 100  Train loss: 0.44519615173339844 \n",
            "batch: 150  Train loss: 0.39668330550193787 \n",
            "batch: 200  Train loss: 0.3774743676185608 \n",
            "batch: 250  Train loss: 0.3902924060821533 \n",
            "batch: 300  Train loss: 0.35367152094841003 \n",
            "batch: 350  Train loss: 0.37256231904029846 \n",
            "batch: 400  Train loss: 0.3670614957809448 \n",
            "batch: 450  Train loss: 0.34246858954429626 \n",
            "Epoch: 0  Train loss: 0.43983012437820435  Validation Loss: 0.33478161692619324 \n",
            "batch: 0  Train loss: 0.33871233463287354 \n",
            "batch: 50  Train loss: 0.3528631031513214 \n",
            "batch: 100  Train loss: 0.3507671058177948 \n",
            "batch: 150  Train loss: 0.33357539772987366 \n",
            "batch: 200  Train loss: 0.3413354158401489 \n",
            "batch: 250  Train loss: 0.363056480884552 \n",
            "batch: 300  Train loss: 0.39207184314727783 \n",
            "batch: 350  Train loss: 0.3790804147720337 \n",
            "batch: 400  Train loss: 0.317699670791626 \n",
            "batch: 450  Train loss: 0.3322567939758301 \n",
            "Epoch: 1  Train loss: 0.33779045939445496  Validation Loss: 0.31956133246421814 \n",
            "batch: 0  Train loss: 0.32564234733581543 \n",
            "batch: 50  Train loss: 0.3254488706588745 \n",
            "batch: 100  Train loss: 0.3188563287258148 \n",
            "batch: 150  Train loss: 0.3449176847934723 \n",
            "batch: 200  Train loss: 0.31396210193634033 \n",
            "batch: 250  Train loss: 0.3038783073425293 \n",
            "batch: 300  Train loss: 0.3093103766441345 \n",
            "batch: 350  Train loss: 0.3123578429222107 \n",
            "batch: 400  Train loss: 0.3209937810897827 \n",
            "batch: 450  Train loss: 0.30632659792900085 \n",
            "Epoch: 2  Train loss: 0.3171769678592682  Validation Loss: 0.3082095682621002 \n",
            "batch: 0  Train loss: 0.3030172288417816 \n",
            "batch: 50  Train loss: 0.30621448159217834 \n",
            "batch: 100  Train loss: 0.3090326189994812 \n",
            "batch: 150  Train loss: 0.2911868095397949 \n",
            "batch: 200  Train loss: 0.2967659831047058 \n",
            "batch: 250  Train loss: 0.2813897430896759 \n",
            "batch: 300  Train loss: 0.2941218614578247 \n",
            "batch: 350  Train loss: 0.2910515069961548 \n",
            "batch: 400  Train loss: 0.2905978262424469 \n",
            "batch: 450  Train loss: 0.27585750818252563 \n",
            "Epoch: 3  Train loss: 0.2958203852176666  Validation Loss: 0.27698472142219543 \n",
            "batch: 0  Train loss: 0.2745172679424286 \n",
            "batch: 50  Train loss: 0.27899742126464844 \n",
            "batch: 100  Train loss: 0.28156137466430664 \n",
            "batch: 150  Train loss: 0.28752395510673523 \n",
            "batch: 200  Train loss: 0.2726303040981293 \n",
            "batch: 250  Train loss: 0.25952741503715515 \n",
            "batch: 300  Train loss: 0.2967386245727539 \n",
            "batch: 350  Train loss: 0.2684299945831299 \n",
            "batch: 400  Train loss: 0.268425852060318 \n",
            "batch: 450  Train loss: 0.26395249366760254 \n",
            "Epoch: 4  Train loss: 0.2730495035648346  Validation Loss: 0.2557978630065918 \n",
            "batch: 0  Train loss: 0.25340425968170166 \n",
            "batch: 50  Train loss: 0.2700120210647583 \n",
            "batch: 100  Train loss: 0.27137407660484314 \n",
            "batch: 150  Train loss: 0.2539602518081665 \n",
            "batch: 200  Train loss: 0.24824486672878265 \n",
            "batch: 250  Train loss: 0.2543364465236664 \n",
            "batch: 300  Train loss: 0.26584210991859436 \n",
            "batch: 350  Train loss: 0.2489755004644394 \n",
            "batch: 400  Train loss: 0.23173728585243225 \n",
            "batch: 450  Train loss: 0.23635150492191315 \n",
            "Epoch: 5  Train loss: 0.25169137120246887  Validation Loss: 0.23744745552539825 \n",
            "batch: 0  Train loss: 0.23916655778884888 \n",
            "batch: 50  Train loss: 0.24275077879428864 \n",
            "batch: 100  Train loss: 0.23894287645816803 \n",
            "batch: 150  Train loss: 0.2546328604221344 \n",
            "batch: 200  Train loss: 0.2273092269897461 \n",
            "batch: 250  Train loss: 0.23563534021377563 \n",
            "batch: 300  Train loss: 0.22946494817733765 \n",
            "batch: 350  Train loss: 0.2352927029132843 \n",
            "batch: 400  Train loss: 0.22630685567855835 \n",
            "batch: 450  Train loss: 0.21757009625434875 \n",
            "Epoch: 6  Train loss: 0.23355698585510254  Validation Loss: 0.2284824699163437 \n",
            "batch: 0  Train loss: 0.21960881352424622 \n",
            "batch: 50  Train loss: 0.214493066072464 \n",
            "batch: 100  Train loss: 0.21164695918560028 \n",
            "batch: 150  Train loss: 0.21738731861114502 \n",
            "batch: 200  Train loss: 0.22474868595600128 \n",
            "batch: 250  Train loss: 0.21813847124576569 \n",
            "batch: 300  Train loss: 0.21267814934253693 \n",
            "batch: 350  Train loss: 0.20763181149959564 \n",
            "batch: 400  Train loss: 0.21271869540214539 \n",
            "batch: 450  Train loss: 0.20955167710781097 \n",
            "Epoch: 7  Train loss: 0.21807117760181427  Validation Loss: 0.2192697674036026 \n",
            "batch: 0  Train loss: 0.22185637056827545 \n",
            "batch: 50  Train loss: 0.20688079297542572 \n",
            "batch: 100  Train loss: 0.1993909478187561 \n",
            "batch: 150  Train loss: 0.2113879770040512 \n",
            "batch: 200  Train loss: 0.20396177470684052 \n",
            "batch: 250  Train loss: 0.20378491282463074 \n",
            "batch: 300  Train loss: 0.19772477447986603 \n",
            "batch: 350  Train loss: 0.2045101523399353 \n",
            "batch: 400  Train loss: 0.19771641492843628 \n",
            "batch: 450  Train loss: 0.20076104998588562 \n",
            "Epoch: 8  Train loss: 0.20491349697113037  Validation Loss: 0.20084817707538605 \n",
            "batch: 0  Train loss: 0.20209626853466034 \n",
            "batch: 50  Train loss: 0.22166147828102112 \n",
            "batch: 100  Train loss: 0.19979949295520782 \n",
            "batch: 150  Train loss: 0.1952933967113495 \n",
            "batch: 200  Train loss: 0.19167880713939667 \n",
            "batch: 250  Train loss: 0.19228200614452362 \n",
            "batch: 300  Train loss: 0.19543252885341644 \n",
            "batch: 350  Train loss: 0.18972866237163544 \n",
            "batch: 400  Train loss: 0.18423090875148773 \n",
            "batch: 450  Train loss: 0.18704022467136383 \n",
            "Epoch: 9  Train loss: 0.19358113408088684  Validation Loss: 0.18289169669151306 \n",
            "batch: 0  Train loss: 0.17930449545383453 \n",
            "batch: 50  Train loss: 0.18496602773666382 \n",
            "batch: 100  Train loss: 0.1863591969013214 \n",
            "batch: 150  Train loss: 0.19504868984222412 \n",
            "batch: 200  Train loss: 0.18750092387199402 \n",
            "batch: 250  Train loss: 0.17472535371780396 \n",
            "batch: 300  Train loss: 0.18358495831489563 \n",
            "batch: 350  Train loss: 0.17342379689216614 \n",
            "batch: 400  Train loss: 0.1837761253118515 \n",
            "batch: 450  Train loss: 0.17019814252853394 \n",
            "Epoch: 10  Train loss: 0.18310603499412537  Validation Loss: 0.18003128468990326 \n",
            "batch: 0  Train loss: 0.1861741840839386 \n",
            "batch: 50  Train loss: 0.16612933576107025 \n",
            "batch: 100  Train loss: 0.17772266268730164 \n",
            "batch: 150  Train loss: 0.178290456533432 \n",
            "batch: 200  Train loss: 0.17042799293994904 \n",
            "batch: 250  Train loss: 0.17209941148757935 \n",
            "batch: 300  Train loss: 0.18299166858196259 \n",
            "batch: 350  Train loss: 0.16987958550453186 \n",
            "batch: 400  Train loss: 0.1760922372341156 \n",
            "batch: 450  Train loss: 0.17070846259593964 \n",
            "Epoch: 11  Train loss: 0.17328326404094696  Validation Loss: 0.17237214744091034 \n",
            "batch: 0  Train loss: 0.17105041444301605 \n",
            "batch: 50  Train loss: 0.16369496285915375 \n",
            "batch: 100  Train loss: 0.16261525452136993 \n",
            "batch: 150  Train loss: 0.15645776689052582 \n",
            "batch: 200  Train loss: 0.1633937656879425 \n",
            "batch: 250  Train loss: 0.16421081125736237 \n",
            "batch: 300  Train loss: 0.15922580659389496 \n",
            "batch: 350  Train loss: 0.16337548196315765 \n",
            "batch: 400  Train loss: 0.16293025016784668 \n",
            "batch: 450  Train loss: 0.15881499648094177 \n",
            "Epoch: 12  Train loss: 0.1636475771665573  Validation Loss: 0.1596795916557312 \n",
            "batch: 0  Train loss: 0.15544769167900085 \n",
            "batch: 50  Train loss: 0.14848896861076355 \n",
            "batch: 100  Train loss: 0.15643267333507538 \n",
            "batch: 150  Train loss: 0.18856017291545868 \n",
            "batch: 200  Train loss: 0.15415199100971222 \n",
            "batch: 250  Train loss: 0.1457124501466751 \n",
            "batch: 300  Train loss: 0.16568318009376526 \n",
            "batch: 350  Train loss: 0.1451653391122818 \n",
            "batch: 400  Train loss: 0.15634091198444366 \n",
            "batch: 450  Train loss: 0.1644170880317688 \n",
            "Epoch: 13  Train loss: 0.1538333296775818  Validation Loss: 0.14690075814723969 \n",
            "batch: 0  Train loss: 0.1442510038614273 \n",
            "batch: 50  Train loss: 0.1470167189836502 \n",
            "batch: 100  Train loss: 0.1397501528263092 \n",
            "batch: 150  Train loss: 0.1634066104888916 \n",
            "batch: 200  Train loss: 0.1444949060678482 \n",
            "batch: 250  Train loss: 0.14040039479732513 \n",
            "batch: 300  Train loss: 0.13756725192070007 \n",
            "batch: 350  Train loss: 0.15223756432533264 \n",
            "batch: 400  Train loss: 0.1435537189245224 \n",
            "batch: 450  Train loss: 0.13361555337905884 \n",
            "Epoch: 14  Train loss: 0.14382798969745636  Validation Loss: 0.1394347846508026 \n"
          ],
          "name": "stdout"
        }
      ]
    },
    {
      "cell_type": "code",
      "metadata": {
        "id": "76Q1Mnir7Jk6",
        "colab": {
          "base_uri": "https://localhost:8080/",
          "height": 575
        },
        "outputId": "b41334d9-e35c-4ccd-8f40-3f023e7f6f1f"
      },
      "source": [
        "img = sample_img([made,pcnn])\n",
        "show_img(img)\n",
        "plt.show()"
      ],
      "execution_count": null,
      "outputs": [
        {
          "output_type": "display_data",
          "data": {
            "image/png": "[encoded data removed]",
            "text/plain": [
              "<Figure size 720x720 with 16 Axes>"
            ]
          },
          "metadata": {
            "tags": []
          }
        }
      ]
    }
  ]
}